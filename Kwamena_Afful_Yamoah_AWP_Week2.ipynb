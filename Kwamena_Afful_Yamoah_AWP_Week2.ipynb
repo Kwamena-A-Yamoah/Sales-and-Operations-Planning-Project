{
 "cells": [
  {
   "cell_type": "markdown",
   "id": "333d8b7d-3db6-4ce9-857a-8adfed8b8976",
   "metadata": {},
   "source": []
  },
  {
   "cell_type": "code",
   "execution_count": 3,
   "id": "f40eca03-76c0-45d1-bee3-4d89b2526278",
   "metadata": {
    "tags": []
   },
   "outputs": [
    {
     "name": "stdout",
     "output_type": "stream",
     "text": [
      "Please enter an initial stock level:  500\n",
      "Please enter the number of months to plan:  5\n",
      "Please enter the planned sales quantity for month 1:  300\n",
      "Please enter the planned sales quantity for month 2:  250\n",
      "Please enter the planned sales quantity for month 3:  200\n",
      "Please enter the planned sales quantity for month 4:  400\n",
      "Please enter the planned sales quantity for month 5:  100\n"
     ]
    },
    {
     "name": "stdout",
     "output_type": "stream",
     "text": [
      "Production for month 1 - 0\n",
      "Production for month 2 - 50\n",
      "Production for month 3 - 200\n",
      "Production for month 4 - 400\n",
      "Production for month 5 - 100\n"
     ]
    }
   ],
   "source": [
    "# Getting data input from users\n",
    "stock_level = int(input('Please enter an initial stock level: '))\n",
    "months_plan = int(input('Please enter the number of months to plan: '))\n",
    "\n",
    "# Breaking the months downs\n",
    "months = list(range(1, months_plan+1))\n",
    "\n",
    "# Creating a new list for the sales quantity\n",
    "sq_list = []\n",
    "# Getting data input for each month\n",
    "for char in months:\n",
    "    sales_quantity = int(input(f'Please enter the planned sales quantity for month {char}: '))\n",
    "    sq_list.append(sales_quantity)\n",
    "\n",
    "\n",
    "# Initialize the previous month's stock level\n",
    "previous_stock = stock_level\n",
    "\n",
    "# Iterate through each month's sales\n",
    "for sales in sq_list:\n",
    "    #Calculating the month number\n",
    "    month = sq_list.index(sales) + 1\n",
    "    \n",
    "    # Calculate the production quantity based on the conditions (if the number is negative the maximum will be 0)\n",
    "    production = max(0, sales - previous_stock)\n",
    "    \n",
    "    # Update the stock level for the next month\n",
    "    previous_stock = max(0, previous_stock - sales + production)\n",
    "    \n",
    "    #Print the production quantity for the current month\n",
    "    print(f'Production for month {month} - {production}')\n"
   ]
  },
  {
   "cell_type": "code",
   "execution_count": null,
   "id": "2cbc0d0d-ad90-4f2a-8790-bcda07c1e525",
   "metadata": {},
   "outputs": [],
   "source": []
  }
 ],
 "metadata": {
  "kernelspec": {
   "display_name": "Python 3 (ipykernel)",
   "language": "python",
   "name": "python3"
  },
  "language_info": {
   "codemirror_mode": {
    "name": "ipython",
    "version": 3
   },
   "file_extension": ".py",
   "mimetype": "text/x-python",
   "name": "python",
   "nbconvert_exporter": "python",
   "pygments_lexer": "ipython3",
   "version": "3.11.5"
  }
 },
 "nbformat": 4,
 "nbformat_minor": 5
}
